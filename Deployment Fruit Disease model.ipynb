{
 "cells": [
  {
   "cell_type": "code",
   "execution_count": 1,
   "id": "a1e46b94",
   "metadata": {},
   "outputs": [
    {
     "name": "stdout",
     "output_type": "stream",
     "text": [
      "Requirement already satisfied: ibm_watson_machine_learning in e:\\anaconda3\\lib\\site-packages (1.0.232)Note: you may need to restart the kernel to use updated packages.\n",
      "Requirement already satisfied: urllib3 in e:\\anaconda3\\lib\\site-packages (from ibm_watson_machine_learning) (1.26.9)\n",
      "\n",
      "Requirement already satisfied: requests in e:\\anaconda3\\lib\\site-packages (from ibm_watson_machine_learning) (2.27.1)\n",
      "Requirement already satisfied: importlib-metadata in e:\\anaconda3\\lib\\site-packages (from ibm_watson_machine_learning) (4.11.3)\n",
      "Requirement already satisfied: pandas<1.4.0,>=0.24.2 in e:\\anaconda3\\lib\\site-packages (from ibm_watson_machine_learning) (1.3.5)\n",
      "Requirement already satisfied: lomond in e:\\anaconda3\\lib\\site-packages (from ibm_watson_machine_learning) (0.3.3)\n",
      "Requirement already satisfied: packaging in e:\\anaconda3\\lib\\site-packages (from ibm_watson_machine_learning) (21.3)\n",
      "Requirement already satisfied: ibm-cos-sdk==2.11.* in e:\\anaconda3\\lib\\site-packages (from ibm_watson_machine_learning) (2.11.0)\n",
      "Requirement already satisfied: certifi in e:\\anaconda3\\lib\\site-packages (from ibm_watson_machine_learning) (2021.10.8)\n",
      "Requirement already satisfied: tabulate in e:\\anaconda3\\lib\\site-packages (from ibm_watson_machine_learning) (0.8.9)\n",
      "Requirement already satisfied: jmespath<1.0.0,>=0.7.1 in e:\\anaconda3\\lib\\site-packages (from ibm-cos-sdk==2.11.*->ibm_watson_machine_learning) (0.10.0)\n",
      "Requirement already satisfied: ibm-cos-sdk-s3transfer==2.11.0 in e:\\anaconda3\\lib\\site-packages (from ibm-cos-sdk==2.11.*->ibm_watson_machine_learning) (2.11.0)\n",
      "Requirement already satisfied: ibm-cos-sdk-core==2.11.0 in e:\\anaconda3\\lib\\site-packages (from ibm-cos-sdk==2.11.*->ibm_watson_machine_learning) (2.11.0)\n",
      "Requirement already satisfied: python-dateutil<3.0.0,>=2.1 in e:\\anaconda3\\lib\\site-packages (from ibm-cos-sdk-core==2.11.0->ibm-cos-sdk==2.11.*->ibm_watson_machine_learning) (2.8.2)\n",
      "Requirement already satisfied: numpy>=1.17.3 in e:\\anaconda3\\lib\\site-packages (from pandas<1.4.0,>=0.24.2->ibm_watson_machine_learning) (1.21.5)\n",
      "Requirement already satisfied: pytz>=2017.3 in e:\\anaconda3\\lib\\site-packages (from pandas<1.4.0,>=0.24.2->ibm_watson_machine_learning) (2021.3)\n",
      "Requirement already satisfied: six>=1.5 in e:\\anaconda3\\lib\\site-packages (from python-dateutil<3.0.0,>=2.1->ibm-cos-sdk-core==2.11.0->ibm-cos-sdk==2.11.*->ibm_watson_machine_learning) (1.16.0)\n",
      "Requirement already satisfied: charset-normalizer~=2.0.0 in e:\\anaconda3\\lib\\site-packages (from requests->ibm_watson_machine_learning) (2.0.4)\n",
      "Requirement already satisfied: idna<4,>=2.5 in e:\\anaconda3\\lib\\site-packages (from requests->ibm_watson_machine_learning) (3.3)\n",
      "Requirement already satisfied: zipp>=0.5 in e:\\anaconda3\\lib\\site-packages (from importlib-metadata->ibm_watson_machine_learning) (3.7.0)\n",
      "Requirement already satisfied: pyparsing!=3.0.5,>=2.0.2 in e:\\anaconda3\\lib\\site-packages (from packaging->ibm_watson_machine_learning) (3.0.4)\n"
     ]
    }
   ],
   "source": [
    "pip install ibm_watson_machine_learning"
   ]
  },
  {
   "cell_type": "code",
   "execution_count": 2,
   "id": "b18d62b0",
   "metadata": {},
   "outputs": [],
   "source": [
    "from ibm_watson_machine_learning import APIClient\n",
    "wml_credentials={\n",
    " \"url\":\"https://us-south.ml.cloud.ibm.com\",\n",
    "    \"apikey\":\"YNqU7yLXzO7LvfVVmmrCs7kINFo-jmn5-K4gr32xYlwC\"\n",
    "}"
   ]
  },
  {
   "cell_type": "code",
   "execution_count": 3,
   "id": "5d5b139a",
   "metadata": {},
   "outputs": [],
   "source": [
    "client=APIClient(wml_credentials)"
   ]
  },
  {
   "cell_type": "code",
   "execution_count": 4,
   "id": "62f7457f",
   "metadata": {},
   "outputs": [],
   "source": [
    "def guid_space_name(client,Fruit_disease_deploy):\n",
    "    space=client.spaces.get_details()\n",
    "    return(next(item for item in space['resources'] if item['entity']['name']==Fruit_disease_deploy)['metadata']['id'])"
   ]
  },
  {
   "cell_type": "code",
   "execution_count": 5,
   "id": "a658b5f6",
   "metadata": {},
   "outputs": [
    {
     "name": "stdout",
     "output_type": "stream",
     "text": [
      "2bdb3278-a18e-45d1-8361-a32116439743\n"
     ]
    }
   ],
   "source": [
    "space_uid=guid_space_name(client,'Fruit_disease_deploy')\n",
    "print(space_uid)"
   ]
  },
  {
   "cell_type": "code",
   "execution_count": 6,
   "id": "f3b68890",
   "metadata": {},
   "outputs": [
    {
     "data": {
      "text/plain": [
       "'SUCCESS'"
      ]
     },
     "execution_count": 6,
     "metadata": {},
     "output_type": "execute_result"
    }
   ],
   "source": [
    "client.set.default_space(space_uid)"
   ]
  },
  {
   "cell_type": "code",
   "execution_count": 7,
   "id": "3a72344f",
   "metadata": {},
   "outputs": [
    {
     "name": "stdout",
     "output_type": "stream",
     "text": [
      "Successfully saved model content to file: 'Fruits.tar.gz'\n"
     ]
    },
    {
     "data": {
      "text/plain": [
       "'C:\\\\Users\\\\admin\\\\Downloads\\\\Flask_Deployment/Fruits.tar.gz'"
      ]
     },
     "execution_count": 7,
     "metadata": {},
     "output_type": "execute_result"
    }
   ],
   "source": [
    "client.repository.download(\"8cb7ea9d-879d-4119-8b2f-60a86dde6614\",\"Fruits.tar.gz\")"
   ]
  },
  {
   "cell_type": "code",
   "execution_count": null,
   "id": "02841c0c",
   "metadata": {},
   "outputs": [],
   "source": []
  }
 ],
 "metadata": {
  "kernelspec": {
   "display_name": "Python 3 (ipykernel)",
   "language": "python",
   "name": "python3"
  },
  "language_info": {
   "codemirror_mode": {
    "name": "ipython",
    "version": 3
   },
   "file_extension": ".py",
   "mimetype": "text/x-python",
   "name": "python",
   "nbconvert_exporter": "python",
   "pygments_lexer": "ipython3",
   "version": "3.9.12"
  }
 },
 "nbformat": 4,
 "nbformat_minor": 5
}
